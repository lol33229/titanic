{
 "cells": [
  {
   "cell_type": "code",
   "execution_count": null,
   "id": "6ecc6372-e5b8-4b2e-9d2c-897a30d30084",
   "metadata": {},
   "outputs": [],
   "source": []
  }
 ],
 "metadata": {
  "kernelspec": {
   "display_name": "",
   "name": ""
  },
  "language_info": {
   "name": ""
  }
 },
 "nbformat": 4,
 "nbformat_minor": 5
}
